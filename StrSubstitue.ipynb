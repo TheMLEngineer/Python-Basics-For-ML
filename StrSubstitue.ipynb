{
 "cells": [
  {
   "cell_type": "markdown",
   "metadata": {},
   "source": [
    "# Substituting multiple values to string"
   ]
  },
  {
   "cell_type": "markdown",
   "metadata": {},
   "source": [
    "## Only passing name"
   ]
  },
  {
   "cell_type": "code",
   "execution_count": 1,
   "metadata": {},
   "outputs": [],
   "source": [
    "default_names = [\"Justin\", \"john\", \"Emilee\", \"Jim\", \"Ron\", \"Sandra\", \"veronica\", \"Whitney\"]\n",
    "default_amounts = [123.32, 94.23, 124.32, 323.4, 23, 322.122323, 32.4, 99.99]\n",
    "\n",
    "unformated_message = \"\"\"Hi {name}! \n",
    "Thank you for the purchase on {date}. \n",
    "We hope you are exicted about using it. Just as a\n",
    "reminder the purcase total was {total}.\n",
    "Have a great one!\n",
    "Team CFE\n",
    "\"\"\""
   ]
  },
  {
   "cell_type": "code",
   "execution_count": 2,
   "metadata": {},
   "outputs": [],
   "source": [
    "def make_bill(names , amounts):\n",
    "    messages = []\n",
    "    if len(names) == len(amounts):\n",
    "        i = 0\n",
    "        for name in names:\n",
    "            new_message = unformated_message.format(\n",
    "            name = name,\n",
    "                date = 'Some date',\n",
    "                total = 129.99\n",
    "            )\n",
    "            print(new_message)"
   ]
  },
  {
   "cell_type": "code",
   "execution_count": 3,
   "metadata": {},
   "outputs": [
    {
     "name": "stdout",
     "output_type": "stream",
     "text": [
      "Hi Justin! \n",
      "Thank you for the purchase on Some date. \n",
      "We hope you are exicted about using it. Just as a\n",
      "reminder the purcase total was 129.99.\n",
      "Have a great one!\n",
      "Team CFE\n",
      "\n",
      "Hi john! \n",
      "Thank you for the purchase on Some date. \n",
      "We hope you are exicted about using it. Just as a\n",
      "reminder the purcase total was 129.99.\n",
      "Have a great one!\n",
      "Team CFE\n",
      "\n",
      "Hi Emilee! \n",
      "Thank you for the purchase on Some date. \n",
      "We hope you are exicted about using it. Just as a\n",
      "reminder the purcase total was 129.99.\n",
      "Have a great one!\n",
      "Team CFE\n",
      "\n",
      "Hi Jim! \n",
      "Thank you for the purchase on Some date. \n",
      "We hope you are exicted about using it. Just as a\n",
      "reminder the purcase total was 129.99.\n",
      "Have a great one!\n",
      "Team CFE\n",
      "\n",
      "Hi Ron! \n",
      "Thank you for the purchase on Some date. \n",
      "We hope you are exicted about using it. Just as a\n",
      "reminder the purcase total was 129.99.\n",
      "Have a great one!\n",
      "Team CFE\n",
      "\n",
      "Hi Sandra! \n",
      "Thank you for the purchase on Some date. \n",
      "We hope you are exicted about using it. Just as a\n",
      "reminder the purcase total was 129.99.\n",
      "Have a great one!\n",
      "Team CFE\n",
      "\n",
      "Hi veronica! \n",
      "Thank you for the purchase on Some date. \n",
      "We hope you are exicted about using it. Just as a\n",
      "reminder the purcase total was 129.99.\n",
      "Have a great one!\n",
      "Team CFE\n",
      "\n",
      "Hi Whitney! \n",
      "Thank you for the purchase on Some date. \n",
      "We hope you are exicted about using it. Just as a\n",
      "reminder the purcase total was 129.99.\n",
      "Have a great one!\n",
      "Team CFE\n",
      "\n"
     ]
    }
   ],
   "source": [
    "make_bill(default_names,default_amounts)"
   ]
  },
  {
   "cell_type": "markdown",
   "metadata": {},
   "source": [
    "## Passing name and amount"
   ]
  },
  {
   "cell_type": "code",
   "execution_count": 4,
   "metadata": {},
   "outputs": [],
   "source": [
    "default_names = [\"Justin\", \"john\", \"Emilee\", \"Jim\", \"Ron\", \"Sandra\", \"veronica\", \"Whitney\"]\n",
    "default_amounts = [123.32, 94.23, 124.32, 323.4, 23, 322.122323, 32.4, 99.99]\n",
    "\n",
    "unformated_message = \"\"\"Hi {name}! \n",
    "Thank you for the purchase on {date}. \n",
    "We hope you are exicted about using it. Just as a\n",
    "reminder the purcase total was {total}.\n",
    "Have a great one!\n",
    "Team CFE\n",
    "\"\"\""
   ]
  },
  {
   "cell_type": "code",
   "execution_count": 5,
   "metadata": {},
   "outputs": [],
   "source": [
    "def make_bill(names , amounts):\n",
    "    messages = []\n",
    "    if len(names) == len(amounts):\n",
    "        i = 0\n",
    "        for name in names:\n",
    "            new_message = unformated_message.format(\n",
    "            name = name,\n",
    "                date = 'Some date',\n",
    "                total = amounts[i]\n",
    "            )\n",
    "            i += 1\n",
    "            print(new_message)"
   ]
  },
  {
   "cell_type": "code",
   "execution_count": 6,
   "metadata": {},
   "outputs": [
    {
     "name": "stdout",
     "output_type": "stream",
     "text": [
      "Hi Justin! \n",
      "Thank you for the purchase on Some date. \n",
      "We hope you are exicted about using it. Just as a\n",
      "reminder the purcase total was 123.32.\n",
      "Have a great one!\n",
      "Team CFE\n",
      "\n",
      "Hi john! \n",
      "Thank you for the purchase on Some date. \n",
      "We hope you are exicted about using it. Just as a\n",
      "reminder the purcase total was 94.23.\n",
      "Have a great one!\n",
      "Team CFE\n",
      "\n",
      "Hi Emilee! \n",
      "Thank you for the purchase on Some date. \n",
      "We hope you are exicted about using it. Just as a\n",
      "reminder the purcase total was 124.32.\n",
      "Have a great one!\n",
      "Team CFE\n",
      "\n",
      "Hi Jim! \n",
      "Thank you for the purchase on Some date. \n",
      "We hope you are exicted about using it. Just as a\n",
      "reminder the purcase total was 323.4.\n",
      "Have a great one!\n",
      "Team CFE\n",
      "\n",
      "Hi Ron! \n",
      "Thank you for the purchase on Some date. \n",
      "We hope you are exicted about using it. Just as a\n",
      "reminder the purcase total was 23.\n",
      "Have a great one!\n",
      "Team CFE\n",
      "\n",
      "Hi Sandra! \n",
      "Thank you for the purchase on Some date. \n",
      "We hope you are exicted about using it. Just as a\n",
      "reminder the purcase total was 322.122323.\n",
      "Have a great one!\n",
      "Team CFE\n",
      "\n",
      "Hi veronica! \n",
      "Thank you for the purchase on Some date. \n",
      "We hope you are exicted about using it. Just as a\n",
      "reminder the purcase total was 32.4.\n",
      "Have a great one!\n",
      "Team CFE\n",
      "\n",
      "Hi Whitney! \n",
      "Thank you for the purchase on Some date. \n",
      "We hope you are exicted about using it. Just as a\n",
      "reminder the purcase total was 99.99.\n",
      "Have a great one!\n",
      "Team CFE\n",
      "\n"
     ]
    }
   ],
   "source": [
    "make_bill(default_names,default_amounts)"
   ]
  },
  {
   "cell_type": "markdown",
   "metadata": {},
   "source": [
    "## Passing name and formated amount(2 decimal points)"
   ]
  },
  {
   "cell_type": "code",
   "execution_count": 7,
   "metadata": {},
   "outputs": [],
   "source": [
    "def make_bill(names , amounts):\n",
    "    messages = []\n",
    "    if len(names) == len(amounts):\n",
    "        i = 0\n",
    "        for name in names:\n",
    "            new_amount = \"%.2f\" %(amounts[i])\n",
    "            new_message = unformated_message.format(\n",
    "            name = name,\n",
    "                date = 'Some date',\n",
    "                total = new_amount\n",
    "            )\n",
    "            i += 1\n",
    "            print(new_message)"
   ]
  },
  {
   "cell_type": "code",
   "execution_count": 8,
   "metadata": {},
   "outputs": [
    {
     "name": "stdout",
     "output_type": "stream",
     "text": [
      "Hi Justin! \n",
      "Thank you for the purchase on Some date. \n",
      "We hope you are exicted about using it. Just as a\n",
      "reminder the purcase total was 123.32.\n",
      "Have a great one!\n",
      "Team CFE\n",
      "\n",
      "Hi john! \n",
      "Thank you for the purchase on Some date. \n",
      "We hope you are exicted about using it. Just as a\n",
      "reminder the purcase total was 94.23.\n",
      "Have a great one!\n",
      "Team CFE\n",
      "\n",
      "Hi Emilee! \n",
      "Thank you for the purchase on Some date. \n",
      "We hope you are exicted about using it. Just as a\n",
      "reminder the purcase total was 124.32.\n",
      "Have a great one!\n",
      "Team CFE\n",
      "\n",
      "Hi Jim! \n",
      "Thank you for the purchase on Some date. \n",
      "We hope you are exicted about using it. Just as a\n",
      "reminder the purcase total was 323.40.\n",
      "Have a great one!\n",
      "Team CFE\n",
      "\n",
      "Hi Ron! \n",
      "Thank you for the purchase on Some date. \n",
      "We hope you are exicted about using it. Just as a\n",
      "reminder the purcase total was 23.00.\n",
      "Have a great one!\n",
      "Team CFE\n",
      "\n",
      "Hi Sandra! \n",
      "Thank you for the purchase on Some date. \n",
      "We hope you are exicted about using it. Just as a\n",
      "reminder the purcase total was 322.12.\n",
      "Have a great one!\n",
      "Team CFE\n",
      "\n",
      "Hi veronica! \n",
      "Thank you for the purchase on Some date. \n",
      "We hope you are exicted about using it. Just as a\n",
      "reminder the purcase total was 32.40.\n",
      "Have a great one!\n",
      "Team CFE\n",
      "\n",
      "Hi Whitney! \n",
      "Thank you for the purchase on Some date. \n",
      "We hope you are exicted about using it. Just as a\n",
      "reminder the purcase total was 99.99.\n",
      "Have a great one!\n",
      "Team CFE\n",
      "\n"
     ]
    }
   ],
   "source": [
    "make_bill(default_names,default_amounts)"
   ]
  },
  {
   "cell_type": "markdown",
   "metadata": {},
   "source": [
    "## Passing name and amount and date"
   ]
  },
  {
   "cell_type": "code",
   "execution_count": 9,
   "metadata": {},
   "outputs": [],
   "source": [
    "import datetime"
   ]
  },
  {
   "cell_type": "code",
   "execution_count": 10,
   "metadata": {},
   "outputs": [],
   "source": [
    "def make_bill(names , amounts):\n",
    "    messages = []\n",
    "    if len(names) == len(amounts):\n",
    "        i = 0\n",
    "        today = datetime.date.today()\n",
    "        text = '{today.month}/{today.day}/{today.year}'.format(today = today)\n",
    "        for name in names:\n",
    "            new_amount = \"%.2f\" %(amounts[i])\n",
    "            new_message = unformated_message.format(\n",
    "            name = name,\n",
    "                date =text,\n",
    "                total = new_amount\n",
    "            )\n",
    "            i += 1\n",
    "            print(new_message)"
   ]
  },
  {
   "cell_type": "code",
   "execution_count": 11,
   "metadata": {},
   "outputs": [
    {
     "name": "stdout",
     "output_type": "stream",
     "text": [
      "Hi Justin! \n",
      "Thank you for the purchase on 2/21/2019. \n",
      "We hope you are exicted about using it. Just as a\n",
      "reminder the purcase total was 123.32.\n",
      "Have a great one!\n",
      "Team CFE\n",
      "\n",
      "Hi john! \n",
      "Thank you for the purchase on 2/21/2019. \n",
      "We hope you are exicted about using it. Just as a\n",
      "reminder the purcase total was 94.23.\n",
      "Have a great one!\n",
      "Team CFE\n",
      "\n",
      "Hi Emilee! \n",
      "Thank you for the purchase on 2/21/2019. \n",
      "We hope you are exicted about using it. Just as a\n",
      "reminder the purcase total was 124.32.\n",
      "Have a great one!\n",
      "Team CFE\n",
      "\n",
      "Hi Jim! \n",
      "Thank you for the purchase on 2/21/2019. \n",
      "We hope you are exicted about using it. Just as a\n",
      "reminder the purcase total was 323.40.\n",
      "Have a great one!\n",
      "Team CFE\n",
      "\n",
      "Hi Ron! \n",
      "Thank you for the purchase on 2/21/2019. \n",
      "We hope you are exicted about using it. Just as a\n",
      "reminder the purcase total was 23.00.\n",
      "Have a great one!\n",
      "Team CFE\n",
      "\n",
      "Hi Sandra! \n",
      "Thank you for the purchase on 2/21/2019. \n",
      "We hope you are exicted about using it. Just as a\n",
      "reminder the purcase total was 322.12.\n",
      "Have a great one!\n",
      "Team CFE\n",
      "\n",
      "Hi veronica! \n",
      "Thank you for the purchase on 2/21/2019. \n",
      "We hope you are exicted about using it. Just as a\n",
      "reminder the purcase total was 32.40.\n",
      "Have a great one!\n",
      "Team CFE\n",
      "\n",
      "Hi Whitney! \n",
      "Thank you for the purchase on 2/21/2019. \n",
      "We hope you are exicted about using it. Just as a\n",
      "reminder the purcase total was 99.99.\n",
      "Have a great one!\n",
      "Team CFE\n",
      "\n"
     ]
    }
   ],
   "source": [
    "make_bill(default_names,default_amounts)"
   ]
  },
  {
   "cell_type": "markdown",
   "metadata": {},
   "source": [
    "## Passing name(as title case) and amount and date"
   ]
  },
  {
   "cell_type": "code",
   "execution_count": 12,
   "metadata": {},
   "outputs": [],
   "source": [
    "def make_bill(names , amounts):\n",
    "    messages = []\n",
    "    if len(names) == len(amounts):\n",
    "        i = 0\n",
    "        today = datetime.date.today()\n",
    "        text = '{today.month}/{today.day}/{today.year}'.format(today = today)\n",
    "        for name in names:\n",
    "            name = name.title()\n",
    "            new_amount = \"%.2f\" %(amounts[i])\n",
    "            new_message = unformated_message.format(\n",
    "            name = name,\n",
    "                date =text,\n",
    "                total = new_amount\n",
    "            )\n",
    "            i += 1\n",
    "            print(new_message)"
   ]
  },
  {
   "cell_type": "code",
   "execution_count": 13,
   "metadata": {},
   "outputs": [
    {
     "name": "stdout",
     "output_type": "stream",
     "text": [
      "Hi Justin! \n",
      "Thank you for the purchase on 2/21/2019. \n",
      "We hope you are exicted about using it. Just as a\n",
      "reminder the purcase total was 123.32.\n",
      "Have a great one!\n",
      "Team CFE\n",
      "\n",
      "Hi John! \n",
      "Thank you for the purchase on 2/21/2019. \n",
      "We hope you are exicted about using it. Just as a\n",
      "reminder the purcase total was 94.23.\n",
      "Have a great one!\n",
      "Team CFE\n",
      "\n",
      "Hi Emilee! \n",
      "Thank you for the purchase on 2/21/2019. \n",
      "We hope you are exicted about using it. Just as a\n",
      "reminder the purcase total was 124.32.\n",
      "Have a great one!\n",
      "Team CFE\n",
      "\n",
      "Hi Jim! \n",
      "Thank you for the purchase on 2/21/2019. \n",
      "We hope you are exicted about using it. Just as a\n",
      "reminder the purcase total was 323.40.\n",
      "Have a great one!\n",
      "Team CFE\n",
      "\n",
      "Hi Ron! \n",
      "Thank you for the purchase on 2/21/2019. \n",
      "We hope you are exicted about using it. Just as a\n",
      "reminder the purcase total was 23.00.\n",
      "Have a great one!\n",
      "Team CFE\n",
      "\n",
      "Hi Sandra! \n",
      "Thank you for the purchase on 2/21/2019. \n",
      "We hope you are exicted about using it. Just as a\n",
      "reminder the purcase total was 322.12.\n",
      "Have a great one!\n",
      "Team CFE\n",
      "\n",
      "Hi Veronica! \n",
      "Thank you for the purchase on 2/21/2019. \n",
      "We hope you are exicted about using it. Just as a\n",
      "reminder the purcase total was 32.40.\n",
      "Have a great one!\n",
      "Team CFE\n",
      "\n",
      "Hi Whitney! \n",
      "Thank you for the purchase on 2/21/2019. \n",
      "We hope you are exicted about using it. Just as a\n",
      "reminder the purcase total was 99.99.\n",
      "Have a great one!\n",
      "Team CFE\n",
      "\n"
     ]
    }
   ],
   "source": [
    "make_bill(default_names,default_amounts)"
   ]
  }
 ],
 "metadata": {
  "kernelspec": {
   "display_name": "Python 3",
   "language": "python",
   "name": "python3"
  },
  "language_info": {
   "codemirror_mode": {
    "name": "ipython",
    "version": 3
   },
   "file_extension": ".py",
   "mimetype": "text/x-python",
   "name": "python",
   "nbconvert_exporter": "python",
   "pygments_lexer": "ipython3",
   "version": "3.6.8"
  }
 },
 "nbformat": 4,
 "nbformat_minor": 2
}
